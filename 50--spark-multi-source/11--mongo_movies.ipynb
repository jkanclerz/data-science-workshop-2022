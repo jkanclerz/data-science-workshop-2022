{
  "cells": [
    {
      "cell_type": "markdown",
      "metadata": {
        "id": "lr67qqsr9ZzV"
      },
      "source": [
        "[![Open In Colab](https://colab.research.google.com/assets/colab-badge.svg)](https://githubtocolab.com/jkanclerz/data-science-workshop-2022/blob/main/50--spark-multi-source/11--mongo--movies.ipynb)\n",
        "\n"
      ]
    },
    {
      "cell_type": "code",
      "execution_count": 1,
      "metadata": {
        "colab": {
          "base_uri": "https://localhost:8080/"
        },
        "id": "CyzQ0Fs6X0u9",
        "outputId": "58189039-216e-49d3-8e5a-63cb96e74e1e"
      },
      "outputs": [
        {
          "name": "stdout",
          "output_type": "stream",
          "text": [
            "--2023-01-21 01:42:14--  https://dlcdn.apache.org/spark/spark-3.3.1/spark-3.3.1-bin-hadoop3.tgz\n",
            "Resolving dlcdn.apache.org (dlcdn.apache.org)... 151.101.2.132, 2a04:4e42::644\n",
            "Connecting to dlcdn.apache.org (dlcdn.apache.org)|151.101.2.132|:443... connected.\n",
            "HTTP request sent, awaiting response... 200 OK\n",
            "Length: 299350810 (285M) [application/x-gzip]\n",
            "Saving to: ‘spark-3.3.1-bin-hadoop3.tgz’\n",
            "\n",
            "spark-3.3.1-bin-had 100%[===================>] 285.48M  85.5MB/s    in 3.4s    \n",
            "\n",
            "2023-01-21 01:42:18 (84.3 MB/s) - ‘spark-3.3.1-bin-hadoop3.tgz’ saved [299350810/299350810]\n",
            "\n"
          ]
        }
      ],
      "source": [
        "!apt-get install openjdk-11-jdk-headless -qq > /dev/null\n",
        "!wget https://dlcdn.apache.org/spark/spark-3.3.1/spark-3.3.1-bin-hadoop3.tgz -O spark-3.3.1-bin-hadoop3.tgz\n",
        "!tar xf spark-3.3.1-bin-hadoop3.tgz"
      ]
    },
    {
      "cell_type": "code",
      "execution_count": 2,
      "metadata": {
        "colab": {
          "base_uri": "https://localhost:8080/"
        },
        "id": "WKMyiDrwX4Dr",
        "outputId": "570b3cc2-cf5f-4e87-d479-30aa7abd522c"
      },
      "outputs": [
        {
          "name": "stdout",
          "output_type": "stream",
          "text": [
            "\u001b[2K     \u001b[90m━━━━━━━━━━━━━━━━━━━━━━━━━━━━━━━━━━━━━━━\u001b[0m \u001b[32m281.4/281.4 MB\u001b[0m \u001b[31m4.1 MB/s\u001b[0m eta \u001b[36m0:00:00\u001b[0m\n",
            "\u001b[?25h  Preparing metadata (setup.py) ... \u001b[?25l\u001b[?25hdone\n",
            "\u001b[2K     \u001b[90m━━━━━━━━━━━━━━━━━━━━━━━━━━━━━━━━━━━━━━\u001b[0m \u001b[32m199.7/199.7 KB\u001b[0m \u001b[31m16.5 MB/s\u001b[0m eta \u001b[36m0:00:00\u001b[0m\n",
            "\u001b[?25h  Building wheel for pyspark (setup.py) ... \u001b[?25l\u001b[?25hdone\n"
          ]
        }
      ],
      "source": [
        "!pip install -q pyspark"
      ]
    },
    {
      "cell_type": "code",
      "execution_count": 3,
      "metadata": {
        "id": "y2fMp3iBX47K"
      },
      "outputs": [],
      "source": [
        "import os\n",
        "os.environ[\"JAVA_HOME\"] = \"/usr/lib/jvm/java-11-openjdk-amd64\"\n",
        "os.environ[\"SPARK_HOME\"] = \"/content/spark-3.3.1-bin-hadoop3\""
      ]
    },
    {
      "cell_type": "code",
      "execution_count": 4,
      "metadata": {
        "colab": {
          "base_uri": "https://localhost:8080/"
        },
        "id": "hajj_2sdX5uB",
        "outputId": "32db271e-89ed-420a-a974-81b1f47211e8"
      },
      "outputs": [
        {
          "name": "stdout",
          "output_type": "stream",
          "text": [
            "Reading package lists... Done\n",
            "Building dependency tree       \n",
            "Reading state information... Done\n",
            "The following additional packages will be installed:\n",
            "  libpcap0.8 libyaml-cpp0.6 mongo-tools mongodb-clients mongodb-server\n",
            "  mongodb-server-core\n",
            "The following NEW packages will be installed:\n",
            "  libpcap0.8 libyaml-cpp0.6 mongo-tools mongodb mongodb-clients mongodb-server\n",
            "  mongodb-server-core\n",
            "0 upgraded, 7 newly installed, 0 to remove and 23 not upgraded.\n",
            "Need to get 55.8 MB of archives.\n",
            "After this operation, 226 MB of additional disk space will be used.\n",
            "Get:1 http://archive.ubuntu.com/ubuntu focal/main amd64 libpcap0.8 amd64 1.9.1-3 [128 kB]\n",
            "Get:2 http://archive.ubuntu.com/ubuntu focal/main amd64 libyaml-cpp0.6 amd64 0.6.2-4ubuntu1 [124 kB]\n",
            "Get:3 http://archive.ubuntu.com/ubuntu focal/universe amd64 mongo-tools amd64 3.6.3-0ubuntu1 [12.3 MB]\n",
            "Get:4 http://archive.ubuntu.com/ubuntu focal-updates/universe amd64 mongodb-clients amd64 1:3.6.9+really3.6.8+90~g8e540c0b6d-0ubuntu5.3 [21.6 MB]\n",
            "Get:5 http://archive.ubuntu.com/ubuntu focal-updates/universe amd64 mongodb-server-core amd64 1:3.6.9+really3.6.8+90~g8e540c0b6d-0ubuntu5.3 [21.6 MB]\n",
            "Get:6 http://archive.ubuntu.com/ubuntu focal-updates/universe amd64 mongodb-server all 1:3.6.9+really3.6.8+90~g8e540c0b6d-0ubuntu5.3 [12.5 kB]\n",
            "Get:7 http://archive.ubuntu.com/ubuntu focal-updates/universe amd64 mongodb amd64 1:3.6.9+really3.6.8+90~g8e540c0b6d-0ubuntu5.3 [9,640 B]\n",
            "Fetched 55.8 MB in 4s (13.9 MB/s)\n",
            "debconf: unable to initialize frontend: Dialog\n",
            "debconf: (No usable dialog-like program is installed, so the dialog based frontend cannot be used. at /usr/share/perl5/Debconf/FrontEnd/Dialog.pm line 76, <> line 7.)\n",
            "debconf: falling back to frontend: Readline\n",
            "debconf: unable to initialize frontend: Readline\n",
            "debconf: (This frontend requires a controlling tty.)\n",
            "debconf: falling back to frontend: Teletype\n",
            "dpkg-preconfigure: unable to re-open stdin: \n",
            "Selecting previously unselected package libpcap0.8:amd64.\n",
            "(Reading database ... 129504 files and directories currently installed.)\n",
            "Preparing to unpack .../0-libpcap0.8_1.9.1-3_amd64.deb ...\n",
            "Unpacking libpcap0.8:amd64 (1.9.1-3) ...\n",
            "Selecting previously unselected package libyaml-cpp0.6:amd64.\n",
            "Preparing to unpack .../1-libyaml-cpp0.6_0.6.2-4ubuntu1_amd64.deb ...\n",
            "Unpacking libyaml-cpp0.6:amd64 (0.6.2-4ubuntu1) ...\n",
            "Selecting previously unselected package mongo-tools.\n",
            "Preparing to unpack .../2-mongo-tools_3.6.3-0ubuntu1_amd64.deb ...\n",
            "Unpacking mongo-tools (3.6.3-0ubuntu1) ...\n",
            "Selecting previously unselected package mongodb-clients.\n",
            "Preparing to unpack .../3-mongodb-clients_1%3a3.6.9+really3.6.8+90~g8e540c0b6d-0ubuntu5.3_amd64.deb ...\n",
            "Unpacking mongodb-clients (1:3.6.9+really3.6.8+90~g8e540c0b6d-0ubuntu5.3) ...\n",
            "Selecting previously unselected package mongodb-server-core.\n",
            "Preparing to unpack .../4-mongodb-server-core_1%3a3.6.9+really3.6.8+90~g8e540c0b6d-0ubuntu5.3_amd64.deb ...\n",
            "Unpacking mongodb-server-core (1:3.6.9+really3.6.8+90~g8e540c0b6d-0ubuntu5.3) ...\n",
            "Selecting previously unselected package mongodb-server.\n",
            "Preparing to unpack .../5-mongodb-server_1%3a3.6.9+really3.6.8+90~g8e540c0b6d-0ubuntu5.3_all.deb ...\n",
            "Unpacking mongodb-server (1:3.6.9+really3.6.8+90~g8e540c0b6d-0ubuntu5.3) ...\n",
            "Selecting previously unselected package mongodb.\n",
            "Preparing to unpack .../6-mongodb_1%3a3.6.9+really3.6.8+90~g8e540c0b6d-0ubuntu5.3_amd64.deb ...\n",
            "Unpacking mongodb (1:3.6.9+really3.6.8+90~g8e540c0b6d-0ubuntu5.3) ...\n",
            "Setting up libpcap0.8:amd64 (1.9.1-3) ...\n",
            "Setting up libyaml-cpp0.6:amd64 (0.6.2-4ubuntu1) ...\n",
            "Setting up mongodb-clients (1:3.6.9+really3.6.8+90~g8e540c0b6d-0ubuntu5.3) ...\n",
            "Setting up mongo-tools (3.6.3-0ubuntu1) ...\n",
            "Setting up mongodb-server-core (1:3.6.9+really3.6.8+90~g8e540c0b6d-0ubuntu5.3) ...\n",
            "Setting up mongodb-server (1:3.6.9+really3.6.8+90~g8e540c0b6d-0ubuntu5.3) ...\n",
            "invoke-rc.d: could not determine current runlevel\n",
            "invoke-rc.d: policy-rc.d denied execution of start.\n",
            "Created symlink /etc/systemd/system/multi-user.target.wants/mongodb.service → /lib/systemd/system/mongodb.service.\n",
            "Setting up mongodb (1:3.6.9+really3.6.8+90~g8e540c0b6d-0ubuntu5.3) ...\n",
            "Processing triggers for man-db (2.9.1-1) ...\n",
            "Processing triggers for libc-bin (2.31-0ubuntu9.9) ...\n",
            "Processing triggers for systemd (245.4-4ubuntu3.19) ...\n",
            " * Starting database mongodb\n",
            "   ...done.\n"
          ]
        }
      ],
      "source": [
        "!sudo apt install mongodb\n",
        "!sudo service mongodb start"
      ]
    },
    {
      "cell_type": "code",
      "execution_count": 5,
      "metadata": {
        "colab": {
          "base_uri": "https://localhost:8080/"
        },
        "id": "vL4TxwvH8GBO",
        "outputId": "5eff24b4-97b5-46d5-fd71-fe461911b4d6"
      },
      "outputs": [
        {
          "name": "stdout",
          "output_type": "stream",
          "text": [
            "openjdk version \"11.0.17\" 2022-10-18\n",
            "OpenJDK Runtime Environment (build 11.0.17+8-post-Ubuntu-1ubuntu220.04)\n",
            "OpenJDK 64-Bit Server VM (build 11.0.17+8-post-Ubuntu-1ubuntu220.04, mixed mode, sharing)\n"
          ]
        }
      ],
      "source": [
        "\n",
        "!java -version"
      ]
    },
    {
      "cell_type": "code",
      "execution_count": 6,
      "metadata": {
        "colab": {
          "base_uri": "https://localhost:8080/"
        },
        "id": "qCLJAX87-4UU",
        "outputId": "b8490b04-5efb-4b19-d97a-62fd041c0f71"
      },
      "outputs": [
        {
          "name": "stdout",
          "output_type": "stream",
          "text": [
            "--2023-01-21 01:43:33--  https://github.com/SouthbankSoftware/dbkoda-data/raw/master/SampleCollections/dump/SampleCollections/video_movies.bson\n",
            "Resolving github.com (github.com)... 192.30.255.113\n",
            "Connecting to github.com (github.com)|192.30.255.113|:443... connected.\n",
            "HTTP request sent, awaiting response... 302 Found\n",
            "Location: https://raw.githubusercontent.com/SouthbankSoftware/dbkoda-data/master/SampleCollections/dump/SampleCollections/video_movies.bson [following]\n",
            "--2023-01-21 01:43:33--  https://raw.githubusercontent.com/SouthbankSoftware/dbkoda-data/master/SampleCollections/dump/SampleCollections/video_movies.bson\n",
            "Resolving raw.githubusercontent.com (raw.githubusercontent.com)... 185.199.108.133, 185.199.109.133, 185.199.110.133, ...\n",
            "Connecting to raw.githubusercontent.com (raw.githubusercontent.com)|185.199.108.133|:443... connected.\n",
            "HTTP request sent, awaiting response... 200 OK\n",
            "Length: 343355 (335K) [application/octet-stream]\n",
            "Saving to: ‘var/video_movies.bson’\n",
            "\n",
            "var/video_movies.bs 100%[===================>] 335.31K  --.-KB/s    in 0.03s   \n",
            "\n",
            "2023-01-21 01:43:33 (12.9 MB/s) - ‘var/video_movies.bson’ saved [343355/343355]\n",
            "\n",
            "--2023-01-21 01:43:34--  https://github.com/SouthbankSoftware/dbkoda-data/raw/master/SampleCollections/dump/SampleCollections/video_movieDetails.bson\n",
            "Resolving github.com (github.com)... 192.30.255.113\n",
            "Connecting to github.com (github.com)|192.30.255.113|:443... connected.\n",
            "HTTP request sent, awaiting response... 302 Found\n",
            "Location: https://raw.githubusercontent.com/SouthbankSoftware/dbkoda-data/master/SampleCollections/dump/SampleCollections/video_movieDetails.bson [following]\n",
            "--2023-01-21 01:43:34--  https://raw.githubusercontent.com/SouthbankSoftware/dbkoda-data/master/SampleCollections/dump/SampleCollections/video_movieDetails.bson\n",
            "Resolving raw.githubusercontent.com (raw.githubusercontent.com)... 185.199.110.133, 185.199.109.133, 185.199.111.133, ...\n",
            "Connecting to raw.githubusercontent.com (raw.githubusercontent.com)|185.199.110.133|:443... connected.\n",
            "HTTP request sent, awaiting response... 200 OK\n",
            "Length: 1564249 (1.5M) [application/octet-stream]\n",
            "Saving to: ‘var/video_movieDetails.bson’\n",
            "\n",
            "var/video_movieDeta 100%[===================>]   1.49M  --.-KB/s    in 0.04s   \n",
            "\n",
            "2023-01-21 01:43:34 (40.0 MB/s) - ‘var/video_movieDetails.bson’ saved [1564249/1564249]\n",
            "\n",
            "2023-01-21T01:43:34.565+0000\tchecking for collection data in var/video_movieDetails.bson\n",
            "2023-01-21T01:43:34.595+0000\trestoring datascience.movies from var/video_movieDetails.bson\n",
            "2023-01-21T01:43:34.660+0000\tno indexes to restore\n",
            "2023-01-21T01:43:34.660+0000\tfinished restoring datascience.movies (2295 documents)\n",
            "2023-01-21T01:43:34.660+0000\tdone\n",
            "2023-01-21T01:43:34.797+0000\tchecking for collection data in var/video_movies.bson\n",
            "2023-01-21T01:43:34.825+0000\trestoring datascience.films from var/video_movies.bson\n",
            "2023-01-21T01:43:34.889+0000\tno indexes to restore\n",
            "2023-01-21T01:43:34.889+0000\tfinished restoring datascience.films (3365 documents)\n",
            "2023-01-21T01:43:34.889+0000\tdone\n"
          ]
        }
      ],
      "source": [
        "!mkdir -p var\n",
        "!wget https://github.com/SouthbankSoftware/dbkoda-data/raw/master/SampleCollections/dump/SampleCollections/video_movies.bson -O var/video_movies.bson\n",
        "!wget https://github.com/SouthbankSoftware/dbkoda-data/raw/master/SampleCollections/dump/SampleCollections/video_movieDetails.bson -O var/video_movieDetails.bson\n",
        "!mongorestore --db datascience --drop --collection movies var/video_movieDetails.bson\n",
        "!mongorestore --db datascience --drop --collection films var/video_movies.bson"
      ]
    },
    {
      "cell_type": "code",
      "execution_count": 7,
      "metadata": {
        "colab": {
          "base_uri": "https://localhost:8080/"
        },
        "id": "kPPTfVHWX-oJ",
        "outputId": "3093128d-95af-4853-acea-e4dc727b0eaa"
      },
      "outputs": [
        {
          "name": "stdout",
          "output_type": "stream",
          "text": [
            "Looking in indexes: https://pypi.org/simple, https://us-python.pkg.dev/colab-wheels/public/simple/\n",
            "Requirement already satisfied: pymongo in /usr/local/lib/python3.8/dist-packages (4.3.3)\n",
            "Requirement already satisfied: dnspython<3.0.0,>=1.16.0 in /usr/local/lib/python3.8/dist-packages (from pymongo) (2.2.1)\n"
          ]
        }
      ],
      "source": [
        "pip install pymongo"
      ]
    },
    {
      "cell_type": "code",
      "execution_count": 8,
      "metadata": {
        "id": "nPXDjmfGYAJX"
      },
      "outputs": [],
      "source": [
        "from pymongo import MongoClient\n",
        "from pprint import pprint as pp\n",
        "client = MongoClient('mongodb://localhost:27017')\n",
        "db = client.datascience"
      ]
    },
    {
      "cell_type": "code",
      "execution_count": 9,
      "metadata": {
        "colab": {
          "base_uri": "https://localhost:8080/"
        },
        "id": "WH8-5cXw_aQr",
        "outputId": "c2782b46-9a8e-42e7-da91-4be57d2f1fd7"
      },
      "outputs": [
        {
          "name": "stdout",
          "output_type": "stream",
          "text": [
            "[{'_id': ObjectId('5692a53024de1e0ce2dfdca5'),\n",
            "  'awards': {'nominations': 1, 'text': '22 wins & 1 nomination.', 'wins': 22},\n",
            "  'rating': 7.6,\n",
            "  'ratio': 22.0,\n",
            "  'title': 'Au bout du monde'},\n",
            " {'_id': ObjectId('5692a47c24de1e0ce2dfdb63'),\n",
            "  'awards': {'nominations': 1, 'text': '22 wins & 1 nomination.', 'wins': 22},\n",
            "  'rating': 8.1,\n",
            "  'ratio': 22.0,\n",
            "  'title': 'Everything Will Be Ok'}]\n"
          ]
        }
      ],
      "source": [
        "pp(list(db.movies.aggregate([\n",
        "    {\"$match\": {\"awards\": {\"$exists\": \"1\"}}},\n",
        "    {\"$match\": {\"awards.wins\": {\"$gt\": 0}, \"awards.nominations\": {\"$gt\": 0}}},\n",
        "    {\n",
        "        \"$project\": {\n",
        "            \"title\": 1,\n",
        "            \"awards\": 1,\n",
        "            'rating': '$imdb.rating',\n",
        "            \"ratio\": {\n",
        "                \"$divide\": ['$awards.wins', '$awards.nominations']\n",
        "            }\n",
        "        }\n",
        "    },\n",
        "    {\"$sort\": {\"ratio\": -1}},\n",
        "    {\"$limit\": 2}\n",
        "])))"
      ]
    },
    {
      "cell_type": "code",
      "execution_count": null,
      "metadata": {
        "id": "i_8iimi34HwB"
      },
      "outputs": [],
      "source": [
        "!rm /content/spark-3.3.1-bin-hadoop3/jars/mongo*"
      ]
    },
    {
      "cell_type": "code",
      "execution_count": 14,
      "metadata": {
        "colab": {
          "base_uri": "https://localhost:8080/"
        },
        "id": "elvB-heJ4Jdr",
        "outputId": "5430751b-27f6-41ac-dd88-a53e4f9389c8"
      },
      "outputs": [
        {
          "name": "stdout",
          "output_type": "stream",
          "text": [
            "-rw-r--r--  1 root      root  2314847 Apr 22  2022 mongo-java-driver-3.12.11.jar\n",
            "-rw-r--r--  1 root      root        0 Jan 21 01:44 mongo-spark-connector_2.13-10.0.5-all.jar\n"
          ]
        }
      ],
      "source": [
        "!rm /content/spark-3.3.1-bin-hadoop3/jars/mongo*\n",
        "!ls -la /content/spark-3.3.1-bin-hadoop3/jars | grep mongo"
      ]
    },
    {
      "cell_type": "code",
      "execution_count": 13,
      "metadata": {
        "colab": {
          "base_uri": "https://localhost:8080/"
        },
        "id": "UjHOUTIh4avL",
        "outputId": "f09be306-2015-4c16-c5e1-eb05b06ea8a3"
      },
      "outputs": [
        {
          "name": "stdout",
          "output_type": "stream",
          "text": [
            "--2023-01-21 01:44:49--  https://repo1.maven.org/maven2/org/mongodb/spark/mongo-spark-connector_2.13/10.0.5/mongo-spark-connector_2.13-10.0.5-all.jar\n",
            "Resolving repo1.maven.org (repo1.maven.org)... 199.232.192.209, 199.232.196.209\n",
            "Connecting to repo1.maven.org (repo1.maven.org)|199.232.192.209|:443... connected.\n",
            "HTTP request sent, awaiting response... 404 Not Found\n",
            "2023-01-21 01:44:49 ERROR 404: Not Found.\n",
            "\n",
            "--2023-01-21 01:44:49--  https://repo1.maven.org/maven2/org/mongodb/mongo-java-driver/3.12.11/mongo-java-driver-3.12.11.jar\n",
            "Resolving repo1.maven.org (repo1.maven.org)... 199.232.192.209, 199.232.196.209\n",
            "Connecting to repo1.maven.org (repo1.maven.org)|199.232.192.209|:443... connected.\n",
            "HTTP request sent, awaiting response... 200 OK\n",
            "Length: 2314847 (2.2M) [application/java-archive]\n",
            "Saving to: ‘/content/spark-3.3.1-bin-hadoop3/jars/mongo-java-driver-3.12.11.jar’\n",
            "\n",
            "/content/spark-3.3. 100%[===================>]   2.21M  --.-KB/s    in 0.05s   \n",
            "\n",
            "2023-01-21 01:44:49 (48.6 MB/s) - ‘/content/spark-3.3.1-bin-hadoop3/jars/mongo-java-driver-3.12.11.jar’ saved [2314847/2314847]\n",
            "\n"
          ]
        }
      ],
      "source": [
        "\n",
        "!wget https://repo1.maven.org/maven2/org/mongodb/spark/mongo-spark-connector_2.13/10.0.5/mongo-spark-connector_2.13-10.0.5-all.jar -O /content/spark-3.3.1-bin-hadoop3/jars/mongo-spark-connector_2.13-10.0.5-all.jar\n",
        "!wget https://repo1.maven.org/maven2/org/mongodb/mongo-java-driver/3.12.11/mongo-java-driver-3.12.11.jar -O /content/spark-3.3.1-bin-hadoop3/jars/mongo-java-driver-3.12.11.jar"
      ]
    },
    {
      "cell_type": "code",
      "execution_count": null,
      "metadata": {
        "id": "xtMqGvCp7IWE"
      },
      "outputs": [],
      "source": []
    },
    {
      "cell_type": "code",
      "execution_count": 15,
      "metadata": {
        "id": "zd_iUPa-YF3t"
      },
      "outputs": [],
      "source": [
        "from pyspark.sql import SparkSession\n",
        "spark = SparkSession.\\\n",
        "        builder.\\\n",
        "        appName(\"pyspark-with-mongo\").\\\n",
        "        master(\"local\").\\\n",
        "        config('spark.jars.packages', 'org.mongodb.spark:mongo-spark-connector:10.0.5,org.mongodb:mongo-java-driver:3.12.11').\\\n",
        "        config(\"spark.mongodb.input.uri\",\"mongodb://localhost:27017/datascience.movies\").\\\n",
        "        getOrCreate()\n",
        "\n",
        "sc = spark.sparkContext"
      ]
    },
    {
      "cell_type": "code",
      "execution_count": null,
      "metadata": {},
      "outputs": [],
      "source": [
        "dfAsItIs = (spark.read.format(\"mongodb\")\n",
        "  .option(\"spark.mongodb.read.connection.uri\",\"mongodb://127.0.0.1/datascience.movies\")\n",
        "  .load())\n"
      ]
    },
    {
      "cell_type": "code",
      "execution_count": null,
      "metadata": {},
      "outputs": [],
      "source": [
        "dfAsItIs.show()"
      ]
    },
    {
      "cell_type": "code",
      "execution_count": null,
      "metadata": {},
      "outputs": [],
      "source": []
    },
    {
      "cell_type": "code",
      "execution_count": 16,
      "metadata": {
        "colab": {
          "base_uri": "https://localhost:8080/"
        },
        "id": "g9jkXuoybcTs",
        "outputId": "0824808b-4fd1-4739-f0ea-77b1cd8eaec2"
      },
      "outputs": [
        {
          "name": "stdout",
          "output_type": "stream",
          "text": [
            "Vector(spark://d47f0e6e6ab0:33409/jars/org.mongodb_mongo-java-driver-3.12.11.jar, spark://d47f0e6e6ab0:33409/jars/org.mongodb_mongodb-driver-sync-4.5.1.jar, spark://d47f0e6e6ab0:33409/jars/org.mongodb.spark_mongo-spark-connector-10.0.5.jar, spark://d47f0e6e6ab0:33409/jars/org.mongodb_bson-4.5.1.jar, spark://d47f0e6e6ab0:33409/jars/org.mongodb_mongodb-driver-core-4.5.1.jar)\n"
          ]
        }
      ],
      "source": [
        "print(sc._jsc.sc().listJars())"
      ]
    },
    {
      "cell_type": "code",
      "execution_count": 17,
      "metadata": {
        "id": "nkKAz_S3AEw3"
      },
      "outputs": [],
      "source": [
        "pipeline = [\n",
        "    {\"$match\": {\"awards\": {\"$exists\": \"1\"}}},\n",
        "    {\"$match\": {\"awards.wins\": {\"$gt\": 0}, \"awards.nominations\": {\"$gt\": 0}}},\n",
        "    {\n",
        "        \"$project\": {\n",
        "            \"title\": 1,\n",
        "            \"awards\": 1,\n",
        "            'rating': '$imdb.rating',\n",
        "            \"ratio\": {\n",
        "                \"$divide\": ['$awards.wins', '$awards.nominations']\n",
        "            }\n",
        "        }\n",
        "    },\n",
        "    {\"$sort\": {\"ratio\": -1}},\n",
        "]"
      ]
    },
    {
      "cell_type": "code",
      "execution_count": 18,
      "metadata": {
        "id": "CGCnMaqvANSa"
      },
      "outputs": [],
      "source": [
        "import json"
      ]
    },
    {
      "cell_type": "code",
      "execution_count": 20,
      "metadata": {
        "id": "FH6oWEZA7TDm"
      },
      "outputs": [],
      "source": [
        "df = (spark.read.format(\"mongodb\")\n",
        "  .option(\"spark.mongodb.read.connection.uri\",\"mongodb://127.0.0.1/datascience.movies\")\n",
        "  .option(\"aggregation.pipeline\", json.dumps(pipeline))\n",
        "  .load())"
      ]
    },
    {
      "cell_type": "code",
      "execution_count": 21,
      "metadata": {
        "colab": {
          "base_uri": "https://localhost:8080/"
        },
        "id": "SQuOhHeW82zn",
        "outputId": "c49b39dd-40c1-4bd4-a65f-19885e07b70c"
      },
      "outputs": [
        {
          "name": "stdout",
          "output_type": "stream",
          "text": [
            "+--------------------+--------------------+--------------------+------------------+--------------------+--------------------+--------------------+----------+--------------------+--------------------+-------+-------------------+-------+--------------------+--------------------+-----+--------------------+------+\n",
            "|                 _id|              actors|              awards|         countries|            director|              genres|                imdb|metacritic|                plot|              poster|  rated|           released|runtime|               title|              tomato| type|             writers|  year|\n",
            "+--------------------+--------------------+--------------------+------------------+--------------------+--------------------+--------------------+----------+--------------------+--------------------+-------+-------------------+-------+--------------------+--------------------+-----+--------------------+------+\n",
            "|569190cb24de1e0ce...|[Seth MacFarlane,...|{6.0, null, 6 nom...|             [USA]|     Seth MacFarlane|   [Comedy, Western]|{tt2557490, 6.1, ...|      44.0|As a cowardly far...|http://ia.media-i...|      R|2014-05-30 04:00:00|  116.0|A Million Ways to...|{33.0, rotten, 4....|movie|[Seth MacFarlane,...|2014.0|\n",
            "|569190cc24de1e0ce...|[Michael Baden, J...|{9.0, null, Nomin...|[New Zealand, USA]|            Amy Berg|       [Documentary]|{tt2130321, 7.9, ...|      80.0|An examination of...|http://ia.media-i...|      R|2012-11-22 05:00:00|  147.0|     West of Memphis|{95.0, certified,...|movie|[Amy Berg, Billy ...|2012.0|\n",
            "|569190cc24de1e0ce...|[Mark Hamill, Har...|{27.0, null, Won ...|             [USA]|        George Lucas|[Action, Adventur...|{tt0076759, 8.7, ...|      92.0|Luke Skywalker jo...|http://ia.media-i...|     PG|1977-05-25 04:00:00|  121.0|Star Wars: Episod...|{94.0, certified,...|movie|      [George Lucas]|1977.0|\n",
            "|569190cc24de1e0ce...|[Mark Hamill, Har...|{15.0, null, Nomi...|             [USA]|    Richard Marquand|[Action, Adventur...|{tt0086190, 8.4, ...|      52.0|After rescuing Ha...|http://ia.media-i...|     PG|1983-05-25 04:00:00|  131.0|Star Wars: Episod...|{80.0, certified,...|movie|[Lawrence Kasdan,...|1983.0|\n",
            "|569190cd24de1e0ce...|[Ewan McGregor, N...|{47.0, null, Nomi...|             [USA]|        George Lucas|[Action, Adventur...|{tt0121765, 6.7, ...|      54.0|Ten years after i...|http://ia.media-i...|     PG|2002-05-16 04:00:00|  142.0|Star Wars: Episod...|{66.0, fresh, 6.7...|movie|[George Lucas, Jo...|2002.0|\n",
            "|569190cd24de1e0ce...|[Peter Sellers, G...|{6.0, null, Nomin...|         [USA, UK]|     Stanley Kubrick|            [Comedy]|{tt0057012, 8.5, ...|      96.0|An insane general...|http://ia.media-i...|     PG|1964-01-29 05:00:00|   95.0|Dr. Strangelove o...|{99.0, certified,...|movie|[Stanley Kubrick,...|1964.0|\n",
            "|569190cd24de1e0ce...|[Paul Rudd, Rashi...|{8.0, null, 1 win...|             [USA]|        John Hamburg|   [Comedy, Romance]|{tt1155056, 7.1, ...|      70.0|Friendless Peter ...|http://ia.media-i...|      R|2009-03-20 04:00:00|  105.0|     I Love You, Man|{84.0, certified,...|movie|[John Hamburg, La...|2009.0|\n",
            "|569190ce24de1e0ce...|[Hilary Swank, Ge...|{4.0, null, 2 win...|             [USA]| Richard LaGravenese|    [Drama, Romance]|{tt0431308, 7.1, ...|      39.0|A young widow dis...|http://ia.media-i...|  PG-13|2007-12-21 05:00:00|  126.0|     P.S. I Love You|                null|movie|[Richard LaGraven...|2007.0|\n",
            "|569190ce24de1e0ce...|[Jake Gyllenhaal,...|{5.0, null, Nomin...|             [USA]|        Edward Zwick|[Comedy, Drama, R...|{tt0758752, 6.7, ...|      55.0|A young woman suf...|http://ia.media-i...|      R|2010-11-24 05:00:00|  112.0|  Love & Other Drugs|{49.0, rotten, 5....|movie|[Charles Randolph...|2010.0|\n",
            "|569190cf24de1e0ce...|[Ron Livingston, ...|{2.0, null, 2 nom...|             [USA]|          Mike Judge|            [Comedy]|{tt0151804, 7.8, ...|      68.0|Three company wor...|http://ia.media-i...|      R|1999-02-19 05:00:00|   89.0|        Office Space|{79.0, certified,...|movie|[Mike Judge, Mike...|1999.0|\n",
            "|569190cf24de1e0ce...|[Gregory Walcott,...|  {0.0, null, , 0.0}|             [USA]|  Edward D. Wood Jr.|    [Horror, Sci-Fi]|{tt0052077, 4.0, ...|      null|Aliens resurrect ...|http://ia.media-i...|UNRATED|1959-07-22 04:00:00|   79.0|Plan 9 from Outer...|                null|movie|[Edward D. Wood Jr.]|1959.0|\n",
            "|569190d024de1e0ce...|[Errol Flynn, Oli...|{2.0, null, Won 3...|             [USA]|Michael Curtiz, W...|[Action, Adventur...|{tt0029843, 8.0, ...|      97.0|When Prince John ...|http://ia.media-i...|     PG|1938-05-14 04:00:00|  102.0|The Adventures of...|{100.0, certified...|movie|[Norman Reilly Ra...|1938.0|\n",
            "|569190d024de1e0ce...|[Elisabeth Shue, ...|{4.0, null, 2 win...|             [USA]|      Chris Columbus|[Action, Adventur...|{tt0092513, 6.8, ...|      null|Chris Parker agre...|http://ia.media-i...|  PG-13|1987-07-03 04:00:00|  102.0|Adventures in Bab...|                null|movie|     [David Simkins]|1987.0|\n",
            "|569190d024de1e0ce...|[Taylor Lautner, ...|{10.0, null, 1 wi...|             [USA]|    Robert Rodriguez|[Action, Adventur...|{tt0424774, 3.5, ...|      38.0|A young boy is re...|http://ia.media-i...|     PG|2005-06-10 04:00:00|   93.0|The Adventures of...|{20.0, rotten, 4....|movie|[Robert Rodriguez...|2005.0|\n",
            "|569190d024de1e0ce...|[Peter Weller, Jo...|{5.0, null, 5 nom...|             [USA]|        W.D. Richter|[Adventure, Comed...|{tt0086856, 6.4, ...|      null|Adventurer/surgeo...|http://ia.media-i...|     PG|1984-08-10 04:00:00|  103.0|The Adventures of...|                null|movie|    [Earl Mac Rauch]|1984.0|\n",
            "|569190d024de1e0ce...|[Rene Russo, Jaso...|{4.0, null, 2 win...|    [USA, Germany]|         Des McAnuff|[Animation, Adven...|{tt0131704, 4.1, ...|      36.0|When enemies Bori...|http://ia.media-i...|     PG|2000-06-30 04:00:00|   92.0|The Adventures of...|{43.0, rotten, 4....|movie|[Jay Ward, Kennet...|2000.0|\n",
            "|569190d024de1e0ce...|[Louise Bourgoin,...|{1.0, null, 2 win...|     [France, USA]|          Luc Besson|[Action, Adventur...|{tt1179025, 6.3, ...|      null|An adventure set ...|http://ia.media-i...|     PG|2010-04-14 04:00:00|  107.0|The Extraordinary...|                null|movie|[Luc Besson, Jacq...|2010.0|\n",
            "|569190d124de1e0ce...|[Jim Carrey, Laur...|{65.0, null, Nomi...|             [USA]|          Peter Weir|             [Drama]|{tt0120382, 8.1, ...|      90.0|An insurance sale...|http://ia.media-i...|     PG|1998-06-05 04:00:00|  103.0|     The Truman Show|{94.0, certified,...|movie|     [Andrew Niccol]|1998.0|\n",
            "|569190d224de1e0ce...|[Bruce Campbell, ...|{5.0, null, 5 nom...|             [USA]|           Sam Raimi|    [Comedy, Horror]|{tt0092991, 7.8, ...|      69.0|The lone survivor...|http://ia.media-i...|      X|1987-03-13 05:00:00|   84.0|        Evil Dead II|{98.0, certified,...|movie|[Sam Raimi, Scott...|1987.0|\n",
            "|569190d224de1e0ce...|[David Emge, Ken ...|{2.0, null, 2 win...|      [Italy, USA]|    George A. Romero|            [Horror]|{tt0077402, 8.0, ...|      null|Following an ever...|http://ia.media-i...|UNRATED|1979-05-24 04:00:00|  127.0|    Dawn of the Dead|                null|movie|  [George A. Romero]|1978.0|\n",
            "+--------------------+--------------------+--------------------+------------------+--------------------+--------------------+--------------------+----------+--------------------+--------------------+-------+-------------------+-------+--------------------+--------------------+-----+--------------------+------+\n",
            "only showing top 20 rows\n",
            "\n"
          ]
        }
      ],
      "source": [
        "df.show()"
      ]
    },
    {
      "cell_type": "code",
      "execution_count": 22,
      "metadata": {
        "colab": {
          "base_uri": "https://localhost:8080/"
        },
        "id": "38gtp7OLArLd",
        "outputId": "3c99a736-832f-4417-ebef-f42ed1b0820d"
      },
      "outputs": [
        {
          "name": "stdout",
          "output_type": "stream",
          "text": [
            "root\n",
            " |-- _id: string (nullable = true)\n",
            " |-- actors: array (nullable = true)\n",
            " |    |-- element: string (containsNull = true)\n",
            " |-- awards: struct (nullable = true)\n",
            " |    |-- nominations: double (nullable = true)\n",
            " |    |-- oscars: array (nullable = true)\n",
            " |    |    |-- element: struct (containsNull = true)\n",
            " |    |    |    |-- bestAnimatedFeature: string (nullable = true)\n",
            " |    |    |    |-- bestMusic: string (nullable = true)\n",
            " |    |    |    |-- bestPicture: string (nullable = true)\n",
            " |    |    |    |-- bestScreenplay: string (nullable = true)\n",
            " |    |    |    |-- bestSoundEditing: string (nullable = true)\n",
            " |    |-- text: string (nullable = true)\n",
            " |    |-- wins: double (nullable = true)\n",
            " |-- countries: array (nullable = true)\n",
            " |    |-- element: string (containsNull = true)\n",
            " |-- director: string (nullable = true)\n",
            " |-- genres: array (nullable = true)\n",
            " |    |-- element: string (containsNull = true)\n",
            " |-- imdb: struct (nullable = true)\n",
            " |    |-- id: string (nullable = true)\n",
            " |    |-- rating: double (nullable = true)\n",
            " |    |-- votes: double (nullable = true)\n",
            " |-- metacritic: double (nullable = true)\n",
            " |-- plot: string (nullable = true)\n",
            " |-- poster: string (nullable = true)\n",
            " |-- rated: string (nullable = true)\n",
            " |-- released: timestamp (nullable = true)\n",
            " |-- runtime: double (nullable = true)\n",
            " |-- title: string (nullable = true)\n",
            " |-- tomato: struct (nullable = true)\n",
            " |    |-- meter: double (nullable = true)\n",
            " |    |-- image: string (nullable = true)\n",
            " |    |-- rating: double (nullable = true)\n",
            " |    |-- reviews: double (nullable = true)\n",
            " |    |-- fresh: double (nullable = true)\n",
            " |    |-- consensus: string (nullable = true)\n",
            " |    |-- userMeter: double (nullable = true)\n",
            " |    |-- userRating: double (nullable = true)\n",
            " |    |-- userReviews: double (nullable = true)\n",
            " |-- type: string (nullable = true)\n",
            " |-- writers: array (nullable = true)\n",
            " |    |-- element: string (containsNull = true)\n",
            " |-- year: double (nullable = true)\n",
            "\n"
          ]
        }
      ],
      "source": [
        "df.printSchema()"
      ]
    },
    {
      "cell_type": "code",
      "execution_count": null,
      "metadata": {},
      "outputs": [],
      "source": [
        "df = (spark.read.format(\"mongodb\")\n",
        "  .option(\"spark.mongodb.read.connection.uri\",\"mongodb://127.0.0.1/datascience.movies\")\n",
        "  .load())"
      ]
    },
    {
      "cell_type": "code",
      "execution_count": 23,
      "metadata": {
        "id": "qmeGrMLYAvCs"
      },
      "outputs": [],
      "source": [
        "from pyspark.sql import functions as F"
      ]
    },
    {
      "cell_type": "code",
      "execution_count": 25,
      "metadata": {
        "colab": {
          "base_uri": "https://localhost:8080/"
        },
        "id": "dFjzJeC_BC8S",
        "outputId": "80199e82-a03c-4aea-890c-09766a489226"
      },
      "outputs": [
        {
          "name": "stdout",
          "output_type": "stream",
          "text": [
            "+--------------------+----+------+\n",
            "|               title|wins|rating|\n",
            "+--------------------+----+------+\n",
            "|A Million Ways to...| 0.0|   6.1|\n",
            "|     West of Memphis| 0.0|   7.9|\n",
            "|Star Wars: Episod...|38.0|   8.7|\n",
            "|Star Wars: Episod...|15.0|   8.4|\n",
            "|Star Wars: Episod...|13.0|   6.7|\n",
            "+--------------------+----+------+\n",
            "only showing top 5 rows\n",
            "\n"
          ]
        }
      ],
      "source": [
        "df.select(\n",
        "    F.col('title'),\n",
        "    F.col('awards.wins').alias('wins'),\n",
        "    F.col('imdb.rating').alias('rating')\n",
        ").show(5)"
      ]
    },
    {
      "cell_type": "code",
      "execution_count": 27,
      "metadata": {
        "id": "mcoTtJzABYMv"
      },
      "outputs": [],
      "source": [
        "df.createOrReplaceTempView('movies')"
      ]
    },
    {
      "cell_type": "code",
      "execution_count": 28,
      "metadata": {
        "colab": {
          "base_uri": "https://localhost:8080/"
        },
        "id": "Hn0FXjwwB3H2",
        "outputId": "967429d5-d921-4a3e-bfd3-637766e3bd14"
      },
      "outputs": [
        {
          "name": "stdout",
          "output_type": "stream",
          "text": [
            "+--------------------+--------------------+--------------------+------------------+---------------+--------------------+--------------------+----------+--------------------+--------------------+-----+-------------------+-------+--------------------+--------------------+-----+--------------------+------+\n",
            "|                 _id|              actors|              awards|         countries|       director|              genres|                imdb|metacritic|                plot|              poster|rated|           released|runtime|               title|              tomato| type|             writers|  year|\n",
            "+--------------------+--------------------+--------------------+------------------+---------------+--------------------+--------------------+----------+--------------------+--------------------+-----+-------------------+-------+--------------------+--------------------+-----+--------------------+------+\n",
            "|569190cb24de1e0ce...|[Seth MacFarlane,...|{6.0, null, 6 nom...|             [USA]|Seth MacFarlane|   [Comedy, Western]|{tt2557490, 6.1, ...|      44.0|As a cowardly far...|http://ia.media-i...|    R|2014-05-30 04:00:00|  116.0|A Million Ways to...|{33.0, rotten, 4....|movie|[Seth MacFarlane,...|2014.0|\n",
            "|569190cc24de1e0ce...|[Michael Baden, J...|{9.0, null, Nomin...|[New Zealand, USA]|       Amy Berg|       [Documentary]|{tt2130321, 7.9, ...|      80.0|An examination of...|http://ia.media-i...|    R|2012-11-22 05:00:00|  147.0|     West of Memphis|{95.0, certified,...|movie|[Amy Berg, Billy ...|2012.0|\n",
            "|569190cc24de1e0ce...|[Mark Hamill, Har...|{27.0, null, Won ...|             [USA]|   George Lucas|[Action, Adventur...|{tt0076759, 8.7, ...|      92.0|Luke Skywalker jo...|http://ia.media-i...|   PG|1977-05-25 04:00:00|  121.0|Star Wars: Episod...|{94.0, certified,...|movie|      [George Lucas]|1977.0|\n",
            "+--------------------+--------------------+--------------------+------------------+---------------+--------------------+--------------------+----------+--------------------+--------------------+-----+-------------------+-------+--------------------+--------------------+-----+--------------------+------+\n",
            "only showing top 3 rows\n",
            "\n"
          ]
        }
      ],
      "source": [
        "spark.sql(\"Select * from movies\").show(3)"
      ]
    },
    {
      "cell_type": "code",
      "execution_count": 31,
      "metadata": {
        "colab": {
          "base_uri": "https://localhost:8080/"
        },
        "id": "0UbpdvbWCIgm",
        "outputId": "df13ecad-7718-4f19-8bbe-aa31e053023b"
      },
      "outputs": [
        {
          "name": "stdout",
          "output_type": "stream",
          "text": [
            "+--------------------+----+------+\n",
            "|               title|wins|rating|\n",
            "+--------------------+----+------+\n",
            "|A Million Ways to...| 0.0|   6.1|\n",
            "|     West of Memphis| 0.0|   7.9|\n",
            "|Star Wars: Episod...|38.0|   8.7|\n",
            "+--------------------+----+------+\n",
            "only showing top 3 rows\n",
            "\n"
          ]
        }
      ],
      "source": [
        "spark.sql(\"Select title, awards.wins as wins, imdb.rating from movies\").show(3)"
      ]
    },
    {
      "cell_type": "code",
      "execution_count": 32,
      "metadata": {
        "id": "yVtnC6gYCROd"
      },
      "outputs": [],
      "source": [
        "moviesDF = spark.sql(\"Select title, awards.wins as wins, imdb.rating from movies\")"
      ]
    },
    {
      "cell_type": "markdown",
      "metadata": {
        "id": "40_15NaECV0X"
      },
      "source": [
        "Save it to external storage"
      ]
    },
    {
      "cell_type": "code",
      "execution_count": 33,
      "metadata": {
        "id": "_wVY9eOwCUDq"
      },
      "outputs": [],
      "source": [
        "moviesDF.write.csv('var/movies')"
      ]
    },
    {
      "cell_type": "code",
      "execution_count": 33,
      "metadata": {
        "id": "LLssfyvXDcOL"
      },
      "outputs": [],
      "source": []
    },
    {
      "cell_type": "code",
      "execution_count": 34,
      "metadata": {
        "colab": {
          "base_uri": "https://localhost:8080/"
        },
        "id": "Wed_IX9hDdRb",
        "outputId": "1e214d41-18a0-4ce1-a576-2821bf7e8173"
      },
      "outputs": [
        {
          "name": "stdout",
          "output_type": "stream",
          "text": [
            "Mounted at /content/drive\n"
          ]
        }
      ],
      "source": [
        "from google.colab import drive\n",
        "drive.mount('/content/drive')"
      ]
    },
    {
      "cell_type": "code",
      "execution_count": 36,
      "metadata": {
        "id": "nDa7dEUUDj9K"
      },
      "outputs": [],
      "source": [
        "moviesDF.write.csv('drive/MyDrive/My-movies')"
      ]
    },
    {
      "cell_type": "code",
      "execution_count": 37,
      "metadata": {
        "id": "1jeE_nhVaDrn"
      },
      "outputs": [],
      "source": [
        "spark.stop()"
      ]
    },
    {
      "cell_type": "code",
      "execution_count": null,
      "metadata": {
        "id": "0CHkT9GT9ADr"
      },
      "outputs": [],
      "source": []
    }
  ],
  "metadata": {
    "colab": {
      "provenance": []
    },
    "gpuClass": "standard",
    "kernelspec": {
      "display_name": "Python 3.11.1 64-bit",
      "language": "python",
      "name": "python3"
    },
    "language_info": {
      "name": "python",
      "version": "3.11.1"
    },
    "vscode": {
      "interpreter": {
        "hash": "1a1af0ee75eeea9e2e1ee996c87e7a2b11a0bebd85af04bb136d915cefc0abce"
      }
    }
  },
  "nbformat": 4,
  "nbformat_minor": 0
}
